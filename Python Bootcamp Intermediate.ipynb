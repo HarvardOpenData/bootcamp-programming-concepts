{
 "cells": [
  {
   "cell_type": "markdown",
   "source": [
    "## Python - Intermediate\n",
    "\n",
    "Welcome to HODP's Python: Intermediate bootcamp! This activity will assume that you have a basic knowledge of Python. If\n",
    "you need a reference or a refresher, you can work through the Python for Beginners bootcamp found under **Python Bootcamp\n",
    "for Beginners.ipynb**."
   ],
   "metadata": {
    "collapsed": false
   }
  },
  {
   "cell_type": "markdown",
   "source": [
    "## iPython/Juptyer Notebooks\n",
    "\n",
    "If you've never used an iPython/Jupyter notebook before, code is split into multiple cells.  \n",
    "Here are some useful shortcuts:  \n",
    "`Esc` & `Enter` keys are used to toggle between selecting a cell versus editing a cell. Up and down arrows are used to toggle between cells.\n",
    "\n",
    "`Shift + Enter` runs your selected cell and moves to the next cell.\n",
    "\n",
    "`Ctrl / Cmd + Enter` runs your current cell.\n",
    "\n",
    "`Ctrl / Cmd + M` lets you change a block of code into text.\n",
    "\n",
    "`Ctrl / Cmd + Y` lets you change a block of text into code.\n",
    "\n",
    "`Ctrl / Cmd + A` lets you insert a block of code above the current one.\n",
    "\n",
    "`Ctrl / Cmd + B` lets you insert a block of code below the current one.  \n",
    "The last line of code in each cell will automatically be printed, with or without a ```print()``` statement."
   ],
   "metadata": {
    "collapsed": false,
    "pycharm": {
     "name": "#%% md\n"
    }
   }
  },
  {
   "cell_type": "code",
   "execution_count": 23,
   "outputs": [
    {
     "data": {
      "text/plain": "5"
     },
     "metadata": {},
     "output_type": "execute_result",
     "execution_count": 23
    }
   ],
   "source": [
    "x = 2\n",
    "y = 3\n",
    "x + y"
   ],
   "metadata": {
    "collapsed": false,
    "pycharm": {
     "name": "#%%\n",
     "is_executing": false
    }
   }
  },
  {
   "cell_type": "markdown",
   "source": [
    "Variables are also remembered between cells:"
   ],
   "metadata": {
    "collapsed": false,
    "pycharm": {
     "name": "#%% md\n"
    }
   }
  },
  {
   "cell_type": "code",
   "execution_count": 11,
   "outputs": [
    {
     "data": {
      "text/plain": "2"
     },
     "metadata": {},
     "output_type": "execute_result",
     "execution_count": 11
    }
   ],
   "source": [
    "x * y"
   ],
   "metadata": {
    "collapsed": false,
    "pycharm": {
     "name": "#%%\n",
     "is_executing": false
    }
   }
  },
  {
   "cell_type": "markdown",
   "source": [
    "You can also write functions!"
   ],
   "metadata": {
    "collapsed": false,
    "pycharm": {
     "name": "#%% md\n"
    }
   }
  },
  {
   "cell_type": "code",
   "execution_count": null,
   "outputs": [],
   "source": [
    "def squared(num):\n",
    "    return num * num\n",
    "\n",
    "squared(5)"
   ],
   "metadata": {
    "collapsed": false,
    "pycharm": {
     "name": "#%% \n"
    }
   }
  },
  {
   "cell_type": "markdown",
   "source": [
    "You can edit previous cells and re-run them too. How would you turn the function ```squared()``` into ```cubed()```?"
   ],
   "metadata": {
    "collapsed": false,
    "pycharm": {
     "name": "#%% md\n"
    }
   }
  },
  {
   "cell_type": "markdown",
   "source": [
    "## Activity: Magic Squares\n",
    "This activity will touch on each of the topics discussed in today's presentation - this includes **File I/O**, **Classes**,\n",
    "**Higher-order Functions**, and **List Comprehensions**. If you don't remember everything that was discussed, don't worry!\n",
    "[HODP Docs](www.google.com) has detailed guides that supplement each bootcamp which you can use as a reference. Also, feel\n",
    "free to ask any questions if you're stuck! TODO update link"
   ],
   "metadata": {
    "collapsed": false,
    "pycharm": {
     "name": "#%% md\n"
    }
   }
  },
  {
   "cell_type": "markdown",
   "source": [
    "A (normal) **magic square** is a $n \\times n$ matrix of the numbers $1, 2, \\dots, n^2$ such that the sum of each row,\n",
    "column, and both diagonals is the same. We can represent a matrix in Python by having a list of rows, with each row a list\n",
    "itself. For example, ```[[1, 2, 3], [4, 5, 6], [7, 8, 9]]``` would represent the matrix\n",
    "```\n",
    "1 2 3\n",
    "4 5 6\n",
    "7 8 9\n",
    "```"
   ],
   "metadata": {
    "collapsed": false,
    "pycharm": {
     "name": "#%% md\n"
    }
   }
  },
  {
   "cell_type": "markdown",
   "source": [
    "We have some example matrices stored as CSVs in the ```static``` folder. Let's open the first file in this folder,\n",
    "```3square.csv```. How would you write its content into a list named ```square```?  \n",
    "Hint: We've already imported the ```csv``` module. Would you want to use ```reader()``` or ```DictReader()```?"
   ],
   "metadata": {
    "collapsed": false,
    "pycharm": {
     "name": "#%% md\n"
    }
   }
  },
  {
   "cell_type": "code",
   "execution_count": 22,
   "outputs": [],
   "source": [
    "import csv\n",
    "\n",
    "with open(\"static/3square.csv\") as f:\n",
    "    # TODO: Write content of square1.csv into a list named square\n",
    "\n",
    "print(square)"
   ],
   "metadata": {
    "collapsed": false,
    "pycharm": {
     "name": "#%%\n",
     "is_executing": false
    }
   }
  },
  {
   "cell_type": "markdown",
   "source": [
    "If you haven't already, try to initialize ```square``` using list comprehensions!"
   ],
   "metadata": {
    "collapsed": false,
    "pycharm": {
     "name": "#%% md\n"
    }
   }
  },
  {
   "cell_type": "markdown",
   "source": [
    "You may have noticed that our list contains strings. Let's cast all the strings to integers. This can also be done with\n",
    "*nested* list comprehension - a list comprehension within a list comprehension!"
   ],
   "metadata": {
    "collapsed": false,
    "pycharm": {
     "name": "#%% md\n"
    }
   }
  },
  {
   "cell_type": "code",
   "execution_count": null,
   "outputs": [],
   "source": [
    "# TODO: Change all strings in square to integers\n",
    "\n",
    "print(square)"
   ],
   "metadata": {
    "collapsed": false,
    "pycharm": {
     "name": "#%%\n"
    }
   }
  },
  {
   "cell_type": "markdown",
   "source": [
    "So we've taken the numbers from the CSV file and moved them into Python lists. However, we still need functions to\n",
    "determine if the matrix we have is indeed a magic square. Remember that an $n \\times n$ magic square contains the numbers\n",
    "$1$ through $n^2$. This means that the the total sum of all numbers is $\\frac{n^2(n^2 + 1)}{2}$, which must be evenly\n",
    "divided among $n$ rows (or columns). Therefore, each row, column, and diagonal must add up to $\\frac{n(n^2 + 1)}{2}$."
   ],
   "metadata": {
    "collapsed": false,
    "pycharm": {
     "name": "#%% md\n"
    }
   }
  },
  {
   "cell_type": "markdown",
   "source": [
    "Let's create a class ```MagicSquare``` with instance variables ```square```, ```size```, and  ```constant```.\n",
    "When we initialize an instance, we will require a list of matrix rows like the one we have just created. ```size()``` will\n",
    "be the dimension $n$ of the matrix, and ```constant``` is the value calculated from the formula above.\n",
    "We also have functions ```checkRows()```, ```checkColumns()```, and ```checkDiagonals()``` It's up to you to implement\n",
    "these functions, which should either return ```True``` or ```False```."
   ],
   "metadata": {
    "collapsed": false,
    "pycharm": {
     "name": "#%% md\n"
    }
   }
  },
  {
   "cell_type": "code",
   "execution_count": null,
   "outputs": [],
   "source": [
    "from typing import List\n",
    "\n",
    "class MagicSquare:\n",
    "    def __init__(self, square: List[List[int]]):\n",
    "        self.square = square\n",
    "        self.size = len(square)\n",
    "        self.constant = self.size * (self.size ** 2 + 1) // 2\n",
    "        \n",
    "    def checkRows(self) -> bool:\n",
    "        # TODO: Check if all rows sum to constant\n",
    "        pass\n",
    "    \n",
    "    def checkColumns(self) -> bool:\n",
    "        # TODO: Check if all columns sum to constant\n",
    "        pass\n",
    "    \n",
    "    def checkDiagonals(self) -> bool:\n",
    "        # TODO: Check if all diagonals sum to constant\n",
    "        pass\n",
    "    \n",
    "    def isMagicSquare(self) -> bool:\n",
    "        return self.checkRows() and self.checkColumns() and self.checkDiagonals()"
   ],
   "metadata": {
    "collapsed": false,
    "pycharm": {
     "name": "#%%\n"
    }
   }
  },
  {
   "cell_type": "markdown",
   "source": [
    "To test our functions, let's create a instance called ```magic_square3x3``` using the ```square``` array we created earlier."
   ],
   "metadata": {
    "collapsed": false,
    "pycharm": {
     "name": "#%% md\n"
    }
   }
  },
  {
   "cell_type": "code",
   "execution_count": null,
   "outputs": [],
   "source": [
    "magic_square3x3 = MagicSquare(square)\n",
    "magic_square3x3.isMagicSquare() # This should output True"
   ],
   "metadata": {
    "collapsed": false,
    "pycharm": {
     "name": "#%%\n"
    }
   }
  },
  {
   "cell_type": "markdown",
   "source": [
    "We should create more instances of the ```MagicSquare``` class to ensure that our functions are correct. We've provided you\n",
    "with three more CSV files for you to test, but feel free to create your own test cases!"
   ],
   "metadata": {
    "collapsed": false,
    "pycharm": {
     "name": "#%% md\n"
    }
   }
  },
  {
   "cell_type": "code",
   "execution_count": null,
   "outputs": [],
   "source": [
    "# TODO: Read in the other three CSV files and check if they are magic squares\n",
    "# Hint: The 4x4 and 5x5 squares should be False, while the 6x6 should be True"
   ],
   "metadata": {
    "collapsed": false,
    "pycharm": {
     "name": "#%%\n"
    }
   }
  },
  {
   "cell_type": "markdown",
   "source": [
    "## Extra Activities\n",
    "\n",
    "For those of you that finish early or want to practice more of the concepts we learned today, here are some additional\n",
    "problems:"
   ],
   "metadata": {
    "collapsed": false,
    "pycharm": {
     "name": "#%% md\n"
    }
   }
  },
  {
   "cell_type": "markdown",
   "source": [
    "1. Add the ```__str__()``` function in the ```MagicSquare``` class to print out matrices as we're used to seeing\n",
    "them. For example, the statement ```print(magic_square3x3)``` should output\n",
    "```\n",
    "8 1 6\n",
    "3 5 7\n",
    "4 9 2\n",
    "```\n",
    "Note that in larger squares, you will need to add whitespace where appropriate to ensure that single and multi-digit\n",
    "numbers align nicely.  \n",
    "Hint: The ```__str()___``` function must return a string. The ```join()``` function is useful for turning lists into strings."
   ],
   "metadata": {
    "collapsed": false,
    "pycharm": {
     "name": "#%% md\n"
    }
   }
  },
  {
   "cell_type": "markdown",
   "source": [
    "2. Rewrite the functions ```checkRows()```, ```checkColumns()```, and ```checkDiagonals()``` to not use ```for``` or\n",
    "```while``` loops. This will require you to be creative with using ```map()```, ```reduce()```, and possibly another\n",
    "function ```enumerate()```. I had a lot of fun finding a solution for each function, so you should definitely try this\n",
    "problem and/or check out the solutions!"
   ],
   "metadata": {
    "collapsed": false,
    "pycharm": {
     "name": "#%% md\n"
    }
   }
  },
  {
   "cell_type": "code",
   "execution_count": null,
   "outputs": [],
   "source": [
    "from typing import List\n",
    "from functools import reduce\n",
    "\n",
    "class MagicSquare:\n",
    "    def __init__(self, square: List[List[int]]):\n",
    "        self.square = square\n",
    "        self.size = len(square)\n",
    "        self.constant = self.size * (self.size ** 2 + 1) // 2\n",
    "    \n",
    "    # TODO: Implement these three functions without loops    \n",
    "    def checkRows(self) -> bool:\n",
    "        pass\n",
    "    \n",
    "    def checkColumns(self) -> bool:\n",
    "        pass\n",
    "    \n",
    "    def checkDiagonals(self) -> bool:\n",
    "        pass\n",
    "    \n",
    "    def isMagicSquare(self) -> bool:\n",
    "        return self.checkRows() and self.checkColumns() and self.checkDiagonals()\n",
    "    \n",
    "    # TODO: Implement this function\n",
    "    def __str__(self):\n",
    "        pass"
   ],
   "metadata": {
    "collapsed": false,
    "pycharm": {
     "name": "#%%\n"
    }
   }
  }
 ],
 "metadata": {
  "kernelspec": {
   "name": "python3",
   "language": "python",
   "display_name": "Python 3"
  },
  "language_info": {
   "codemirror_mode": {
    "name": "ipython",
    "version": 2
   },
   "file_extension": ".py",
   "mimetype": "text/x-python",
   "name": "python",
   "nbconvert_exporter": "python",
   "pygments_lexer": "ipython2",
   "version": "2.7.6"
  },
  "pycharm": {
   "stem_cell": {
    "cell_type": "raw",
    "source": [],
    "metadata": {
     "collapsed": false
    }
   }
  }
 },
 "nbformat": 4,
 "nbformat_minor": 0
}