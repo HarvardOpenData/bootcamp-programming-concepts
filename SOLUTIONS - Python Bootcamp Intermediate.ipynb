{
 "cells": [
  {
   "cell_type": "markdown",
   "metadata": {
    "collapsed": true,
    "pycharm": {
     "name": "#%% md\n"
    }
   },
   "source": [
    "## Python - Intermediate\n",
    "\n",
    "Welcome to HODP's Python: Intermediate bootcamp! This activity will assume that you have a basic knowledge of Python. If\n",
    "you need a reference or a refresher, you can work through the Python for Beginners bootcamp found under **Python Bootcamp\n",
    "for Beginners.ipynb**."
   ]
  },
  {
   "cell_type": "markdown",
   "source": [
    "## iPython/Juptyer Notebooks\n",
    "\n",
    "If you've never used an iPython/Jupyter notebook before, code is split into multiple cells.  \n",
    "Here are some useful shortcuts:  \n",
    "`Esc` & `Enter` keys are used to toggle between selecting a cell versus editing a cell. Up and down arrows are used to toggle between cells.\n",
    "\n",
    "`Shift + Enter` runs your selected cell and moves to the next cell.\n",
    "\n",
    "`Ctrl / Cmd + Enter` runs your current cell.\n",
    "\n",
    "`Ctrl / Cmd + M` lets you change a block of code into text.\n",
    "\n",
    "`Ctrl / Cmd + Y` lets you change a block of text into code.\n",
    "\n",
    "`Ctrl / Cmd + A` lets you insert a block of code above the current one.\n",
    "\n",
    "`Ctrl / Cmd + B` lets you insert a block of code below the current one.  \n",
    "The last line of code in each cell gets printed out, so no need for any ```print()``` statements!"
   ],
   "metadata": {
    "collapsed": false
   }
  },
  {
   "cell_type": "code",
   "execution_count": 1,
   "outputs": [
    {
     "data": {
      "text/plain": "5"
     },
     "metadata": {},
     "output_type": "execute_result",
     "execution_count": 1
    }
   ],
   "source": [
    "a = 2\n",
    "b = 3\n",
    "a + b"
   ],
   "metadata": {
    "collapsed": false,
    "pycharm": {
     "name": "#%%\n",
     "is_executing": false
    }
   }
  },
  {
   "cell_type": "markdown",
   "source": [
    "Variables are also remembered between cells:"
   ],
   "metadata": {
    "collapsed": false
   }
  },
  {
   "cell_type": "code",
   "execution_count": 2,
   "outputs": [
    {
     "data": {
      "text/plain": "6"
     },
     "metadata": {},
     "output_type": "execute_result",
     "execution_count": 2
    }
   ],
   "source": [
    "a * b"
   ],
   "metadata": {
    "collapsed": false,
    "pycharm": {
     "name": "#%%\n",
     "is_executing": false
    }
   }
  },
  {
   "cell_type": "markdown",
   "source": [
    "You can also write functions!"
   ],
   "metadata": {
    "collapsed": false
   }
  },
  {
   "cell_type": "code",
   "execution_count": 3,
   "outputs": [
    {
     "data": {
      "text/plain": "25"
     },
     "metadata": {},
     "output_type": "execute_result",
     "execution_count": 3
    }
   ],
   "source": [
    "def squared(x):\n",
    "    return x * x\n",
    "\n",
    "squared(5)"
   ],
   "metadata": {
    "collapsed": false,
    "pycharm": {
     "name": "#%% \n",
     "is_executing": false
    }
   }
  },
  {
   "cell_type": "markdown",
   "source": [
    "You can edit previous cells and re-run them too. How would you turn the function ```squared()``` into ```cubed()```?"
   ],
   "metadata": {
    "collapsed": false
   }
  },
  {
   "cell_type": "markdown",
   "source": [
    "## Activity: Magic Squares\n",
    "This activity will touch on each of the topics discussed in today's presentation - this includes **File I/O**, **Classes**,\n",
    "**Higher-order Functions**, and **List Comprehensions**. If you don't remember everything that was discussed, don't worry!\n",
    "[HODP Docs](www.google.com) has detailed guides that supplement each bootcamp which you can use as a reference. Also, feel\n",
    "free to ask any questions if you're stuck! TODO update link"
   ],
   "metadata": {
    "collapsed": false
   }
  },
  {
   "cell_type": "markdown",
   "source": [
    "A (normal) **magic square** is a $n \\times n$ matrix of the numbers $1, 2, \\dots, n^2$ such that the sum of each row,\n",
    "column, and both diagonals is the same. We can represent a matrix in Python by having a list of rows, with each row a list\n",
    "itself. For example, ```[[1, 2, 3], [4, 5, 6], [7, 8, 9]]``` would represent the matrix\n",
    "```\n",
    "1 2 3\n",
    "4 5 6\n",
    "7 8 9\n",
    "```"
   ],
   "metadata": {
    "collapsed": false
   }
  },
  {
   "cell_type": "markdown",
   "source": [
    "We have some example matrices stored as CSVs in the ```static``` folder. Let's open the first file in this folder,\n",
    "```3square.csv```. How would you write its content into a list named ```square```?  \n",
    "Hint: We've already imported the ```csv``` module. Would you want to use ```reader()``` or ```DictReader()```?"
   ],
   "metadata": {
    "collapsed": false
   }
  },
  {
   "cell_type": "code",
   "execution_count": 4,
   "outputs": [
    {
     "name": "stdout",
     "text": [
      "[['8', '1', '6'], ['3', '5', '7'], ['4', '9', '2']]\n"
     ],
     "output_type": "stream"
    }
   ],
   "source": [
    "import csv\n",
    "\n",
    "with open(\"static/3square.csv\") as f:\n",
    "    reader = csv.reader(f)\n",
    "    square = [line for line in reader]\n",
    "\n",
    "print(square)"
   ],
   "metadata": {
    "collapsed": false,
    "pycharm": {
     "name": "#%%\n",
     "is_executing": false
    }
   }
  },
  {
   "cell_type": "markdown",
   "source": [
    "If you haven't already, try to initialize ```square``` using list comprehensions!"
   ],
   "metadata": {
    "collapsed": false,
    "pycharm": {
     "name": "#%% md\n"
    }
   }
  },
  {
   "cell_type": "markdown",
   "source": [
    "You may have noticed that our list contains strings. Let's cast all the strings to integers. This can also be done with\n",
    "*nested* list comprehension - a list comprehension within a list comprehension!"
   ],
   "metadata": {
    "collapsed": false,
    "pycharm": {
     "name": "#%% md\n"
    }
   }
  },
  {
   "cell_type": "code",
   "execution_count": 5,
   "outputs": [
    {
     "name": "stdout",
     "text": [
      "[[8, 1, 6], [3, 5, 7], [4, 9, 2]]\n"
     ],
     "output_type": "stream"
    }
   ],
   "source": [
    "square = [[int(num) for num in row] for row in square]\n",
    "\n",
    "# Using for loops:\n",
    "# for row in square:\n",
    "#   for i in range(len(row)):\n",
    "#       row[i] = int(row[i])\n",
    "\n",
    "# Note: the following will not work\n",
    "# for row in square:\n",
    "#   for num in row:\n",
    "#       num = int(num)\n",
    "\n",
    "print(square)"
   ],
   "metadata": {
    "collapsed": false,
    "pycharm": {
     "name": "#%%\n",
     "is_executing": false
    }
   }
  },
  {
   "cell_type": "markdown",
   "source": [
    "So we've taken the numbers from the CSV file and moved them into Python lists. However, we still need functions to\n",
    "determine if the matrix we have is indeed a magic square. Remember that an $n \\times n$ magic square contains the numbers\n",
    "$1$ through $n^2$. This means that the the total sum of all numbers is $\\frac{n^2(n^2 + 1)}{2}$, which must be evenly\n",
    "divided among $n$ rows (or columns). Therefore, each row, column, and diagonal must add up to $\\frac{n(n^2 + 1)}{2}$."
   ],
   "metadata": {
    "collapsed": false
   }
  },
  {
   "cell_type": "markdown",
   "source": [
    "Let's create a class ```MagicSquare``` with instance variables ```square```, ```size```, and  ```constant```.\n",
    "When we initialize an instance, we will require a list of matrix rows like the one we have just created. ```size()``` will\n",
    "be the dimension $n$ of the matrix, and ```constant``` is the value calculated from the formula above.\n",
    "We also have functions ```checkRows()```, ```checkColumns()```, and ```checkDiagonals()``` It's up to you to implement\n",
    "these functions, which should either return ```True``` or ```False```."
   ],
   "metadata": {
    "collapsed": false
   }
  },
  {
   "cell_type": "code",
   "execution_count": 6,
   "outputs": [],
   "source": [
    "from typing import List\n",
    "\n",
    "class MagicSquare:\n",
    "    def __init__(self, square: List[List[int]]):\n",
    "        self.square = square\n",
    "        self.size = len(square)\n",
    "        self.constant = self.size * (self.size ** 2 + 1) // 2\n",
    "\n",
    "    def checkRows(self) -> bool:\n",
    "        for row in self.square:\n",
    "            if sum(row) != self.constant:\n",
    "                return False\n",
    "        return True\n",
    "\n",
    "    def checkColumns(self) -> bool:\n",
    "        current_sum = 0\n",
    "        for i in range(self.size):\n",
    "            for row in self.square:\n",
    "                current_sum += row[i]\n",
    "            if current_sum != self.constant:\n",
    "                return False\n",
    "            current_sum = 0\n",
    "        return True\n",
    "\n",
    "    def checkDiagonals(self) -> bool:\n",
    "        diag1 = 0\n",
    "        diag2 = 0\n",
    "        for i in range(self.size):\n",
    "            diag1 += self.square[i][i]\n",
    "            diag2 += self.square[i][self.size - i - 1]\n",
    "        return diag1 == self.constant and diag2 == self.constant\n",
    "\n",
    "    def isMagicSquare(self) -> bool:\n",
    "        return self.checkRows() and self.checkColumns() and self.checkDiagonals()\n",
    "    "
   ],
   "metadata": {
    "collapsed": false,
    "pycharm": {
     "name": "#%%\n",
     "is_executing": false
    }
   }
  },
  {
   "cell_type": "markdown",
   "source": [
    "To test your functions, let's create a ```MagicSquare``` instance using the ```square``` array we created earlier."
   ],
   "metadata": {
    "collapsed": false
   }
  },
  {
   "cell_type": "code",
   "execution_count": 7,
   "outputs": [
    {
     "data": {
      "text/plain": "True"
     },
     "metadata": {},
     "output_type": "execute_result",
     "execution_count": 7
    }
   ],
   "source": [
    "magic_square = MagicSquare(square)\n",
    "magic_square.isMagicSquare() # This should output True"
   ],
   "metadata": {
    "collapsed": false,
    "pycharm": {
     "name": "#%%\n",
     "is_executing": false
    }
   }
  },
  {
   "cell_type": "markdown",
   "source": [
    "We should create more instances of the ```MagicSquare``` class to ensure that our functions are correct. We've provided you\n",
    "with three more CSV files for you to test, but feel free to create your own test cases!"
   ],
   "metadata": {
    "collapsed": false
   }
  },
  {
   "cell_type": "code",
   "execution_count": 8,
   "outputs": [
    {
     "name": "stdout",
     "text": [
      "False\nFalse\nTrue\n"
     ],
     "output_type": "stream"
    }
   ],
   "source": [
    "with open(\"static/4square.csv\") as f:\n",
    "    reader = csv.reader(f)\n",
    "    square4x4 = [[int(num) for num in row] for row in reader]\n",
    "\n",
    "with open(\"static/5square.csv\") as f:\n",
    "    reader = csv.reader(f)\n",
    "    square5x5 = [[int(num) for num in row] for row in reader]\n",
    "    \n",
    "with open(\"static/6square.csv\") as f:\n",
    "    reader = csv.reader(f)\n",
    "    square6x6 = [[int(num) for num in row] for row in reader]\n",
    "    \n",
    "print(MagicSquare(square4x4).isMagicSquare())\n",
    "print(MagicSquare(square5x5).isMagicSquare())\n",
    "print(MagicSquare(square6x6).isMagicSquare())"
   ],
   "metadata": {
    "collapsed": false,
    "pycharm": {
     "name": "#%%\n",
     "is_executing": false
    }
   }
  },
  {
   "cell_type": "markdown",
   "source": [
    "## Extra Activities\n",
    "\n",
    "For those of you that finish early or want to practice more of the concepts we learned today, here are some additional\n",
    "problems:\n",
    "\n",
    "1. Add the ```__str__()``` function in the ```MagicSquare``` class to print out matrices as we're used to seeing\n",
    "them. For example, the statement ```print(magic_square3x3)``` should output\n",
    "```\n",
    "8 1 6\n",
    "3 5 7\n",
    "4 9 2\n",
    "```\n",
    "Note that in larger squares, you will need to add whitespace where appropriate to ensure that single and multi-digit\n",
    "numbers align nicely.  \n",
    "Hint: The ```__str()___``` function must return a string. The ```join()``` function is useful for turning lists into strings.\n",
    "\n",
    "2. Rewrite the functions ```checkRows()```, ```checkColumns()```, and ```checkDiagonals()``` to not use ```for``` or\n",
    "```while``` loops. This will require you to be creative with using ```map()```, ```reduce()```, and possibly another\n",
    "function ```enumerate()```. I had a lot of fun finding a solution for each function, so you should definitely try this\n",
    "problem and/or check out the solutions!"
   ],
   "metadata": {
    "collapsed": false,
    "pycharm": {
     "name": "#%% md\n",
     "is_executing": false
    }
   }
  },
  {
   "cell_type": "code",
   "execution_count": 9,
   "outputs": [],
   "source": [
    "from typing import List\n",
    "from math import log10, ceil\n",
    "from functools import reduce\n",
    "\n",
    "class MagicSquare:\n",
    "    def __init__(self, square: List[List[int]]):\n",
    "        self.square = square\n",
    "        self.size = len(square)\n",
    "        self.constant = self.size * (self.size ** 2 + 1) // 2\n",
    "    \n",
    "    def checkRows(self) -> bool:\n",
    "        # sums each row using map()\n",
    "        # after casting to a set, end result is all unique row sums\n",
    "        # there should only be one element equal to self.constant in the set\n",
    "        row_sums = set(map(lambda row: sum(row), self.square))\n",
    "        if len(row_sums) != 1 or self.constant not in row_sums:\n",
    "            return False\n",
    "        return True\n",
    "    \n",
    "    def checkColumns(self) -> bool:\n",
    "        # function to sum together two lists by index using map()\n",
    "        def sum_lists(list1, list2):\n",
    "            return list(map(lambda num1, num2: num1 + num2, list1, list2))\n",
    "\n",
    "        # reduce() sums all lists into a single list by index\n",
    "        # after casting to a set, end result is all unique column sums\n",
    "        # there should only be one element equal to self.constant in the set\n",
    "        column_sums = set(reduce(lambda row1, row2: sum_lists(row1, row2), self.square))\n",
    "        if len(column_sums) != 1 or self.constant not in column_sums:\n",
    "            return False\n",
    "        return True\n",
    "\n",
    "    def checkDiagonals(self) -> bool:\n",
    "        # tup is a tuple in the form (i, row)\n",
    "        # therefore, tup[1][tup[0]] is equivalent to row[i] for the ith row in self.square\n",
    "        # reduce() sums these terms, which are precisely the terms on the diagonal\n",
    "        diag1 = reduce(lambda num, tup: num + tup[1][tup[0]], enumerate(self.square), 0)\n",
    "        diag2 = reduce(lambda num, tup: num + tup[1][self.size - tup[0] - 1], enumerate(self.square), 0)\n",
    "        return diag1 == self.constant and diag2 == self.constant\n",
    "\n",
    "    def isMagicSquare(self) -> bool:\n",
    "        return self.checkRows() and self.checkColumns() and self.checkDiagonals()\n",
    "    \n",
    "    def __str__(self):\n",
    "        # determines amount of whitespace for numbers with fewer digits\n",
    "        def whitespace(num):\n",
    "            size_diff = ceil(log10(self.size ** 2 + 1)) - ceil(log10(num + 1))\n",
    "            return size_diff * \" \"\n",
    "        \n",
    "        # casts integers back to strings (with appropriate whitespace)\n",
    "        str_square = [[str(num) + whitespace(num) for num in row] for row in self.square]\n",
    "        \n",
    "        # joins rows into a single string with newline characters\n",
    "        return_str = \"\"\n",
    "        for row in str_square:\n",
    "            return_str += \" \".join(row)\n",
    "            return_str += \"\\n\"\n",
    "        return return_str\n"
   ],
   "metadata": {
    "collapsed": false,
    "pycharm": {
     "name": "#%%\n",
     "is_executing": false
    }
   }
  }
 ],
 "metadata": {
  "kernelspec": {
   "name": "python3",
   "language": "python",
   "display_name": "Python 3"
  },
  "language_info": {
   "codemirror_mode": {
    "name": "ipython",
    "version": 2
   },
   "file_extension": ".py",
   "mimetype": "text/x-python",
   "name": "python",
   "nbconvert_exporter": "python",
   "pygments_lexer": "ipython2",
   "version": "2.7.6"
  },
  "pycharm": {
   "stem_cell": {
    "cell_type": "raw",
    "source": [],
    "metadata": {
     "collapsed": false
    }
   }
  }
 },
 "nbformat": 4,
 "nbformat_minor": 0
}
