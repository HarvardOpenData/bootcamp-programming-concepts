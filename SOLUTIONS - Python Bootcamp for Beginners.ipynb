{
 "cells": [
  {
   "cell_type": "markdown",
   "metadata": {},
   "source": [
    "# **Welcome to the HODP Python Bootcamp for Beginners**\n",
    "\n",
    "We assume no prior programming knowledge and give a brief introduction to Python, one of the most widely used programming languages. Python is incredibly useful for doing data analysis, especially for large data sets.\n",
    "\n",
    "This bootcamp will make sure that you are comfortable with basic Python and equip you with the tools to Google and Stack Overflow your way through more projects!"
   ]
  },
  {
   "cell_type": "markdown",
   "metadata": {},
   "source": [
    "## **Shortcuts and Commands**\n",
    "\n",
    "Some useful shortcuts are:\n",
    "\n",
    "`Esc` & `Enter` keys are used to toggle between selecting a cell versus editing a cell. Up and down arrows are used to toggle between cells.\n",
    "\n",
    "`Shift + Enter` runs your selected cell and moves to the next cell.\n",
    "\n",
    "`Ctrl / Cmd Enter` runs your current cell.\n",
    "\n",
    "`Ctrl / Cmd + M` lets you change a block of code into text.\n",
    "\n",
    "`Ctrl / Cmd + Y` lets you change a block of text into code.\n",
    "\n",
    "`Ctrl / Cmd + A` lets you insert a block of code above the current one.\n",
    "\n",
    "`Ctrl / Cmd + B` lets you insert a block of code below the current one."
   ]
  },
  {
   "cell_type": "markdown",
   "metadata": {},
   "source": [
    "## **Variables & Operations**\n",
    "\n",
    "A variable is a way to represent data in Python. We declare a variable by giving it a name and a value. Values of the variable can change and can have different types (e.g. integers or strings).\n",
    "\n",
    "Here is an example of declaring a variable:\n",
    "```\n",
    "y = 3.45\n",
    "```\n",
    "Here we have a variable `y` and have assigned it the value `3.45`. Variable names must begin with letters.\n",
    "\n",
    "To print the value of a variable, we pass the variable to a function called `print`.\n",
    "```\n",
    "print(y)\n",
    "```\n",
    "\n",
    "There are four types of values:"
   ]
  },
  {
   "cell_type": "code",
   "execution_count": 1,
   "metadata": {},
   "outputs": [
    {
     "name": "stdout",
     "output_type": "stream",
     "text": [
      "1\n",
      "a string of text\n",
      "True\n",
      "3.14159\n"
     ]
    }
   ],
   "source": [
    "# Integer\n",
    "x = 1\n",
    "print(x)\n",
    "\n",
    "# String (e.g. text)\n",
    "word = \"a string of text\"\n",
    "print(word)\n",
    "\n",
    "# Boolean (True or False, 1 or 0)\n",
    "b = True\n",
    "print(b)\n",
    "\n",
    "# Double or Float (e.g. a real number with decimals)\n",
    "doub = 3.14159\n",
    "print(doub)"
   ]
  },
  {
   "cell_type": "markdown",
   "metadata": {},
   "source": [
    "Additionally, you can use multiple operations on variables.\n",
    "\n",
    "For operations on integers, doubles, and floats (e.g. the numbers),"
   ]
  },
  {
   "cell_type": "code",
   "execution_count": 2,
   "metadata": {},
   "outputs": [
    {
     "name": "stdout",
     "output_type": "stream",
     "text": [
      "5\n",
      "1\n",
      "1.5\n",
      "1\n",
      "9\n"
     ]
    }
   ],
   "source": [
    "x = 3\n",
    "y = 2\n",
    "\n",
    "# addition\n",
    "add = x + y\n",
    "print(add)\n",
    "\n",
    "# subtraction\n",
    "diff = x - y\n",
    "print(diff)\n",
    "\n",
    "# division\n",
    "div = x / y\n",
    "print(div)\n",
    "\n",
    "# modulus (remainder)\n",
    "mod = x % y\n",
    "print(mod)\n",
    "\n",
    "# exponent \n",
    "exp = x ** y # note that this means x^y\n",
    "print(exp)"
   ]
  },
  {
   "cell_type": "markdown",
   "metadata": {},
   "source": [
    "To change the type of a variable, we have `int(), str(), bool(), float()`"
   ]
  },
  {
   "cell_type": "code",
   "execution_count": 3,
   "metadata": {},
   "outputs": [
    {
     "name": "stdout",
     "output_type": "stream",
     "text": [
      "7\n",
      "One is also 1 and True\n",
      "True\n",
      "2.2\n"
     ]
    }
   ],
   "source": [
    "# int(), floors the value\n",
    "print(int(\"2\") + int(5.6))\n",
    "\n",
    "# str()\n",
    "print(\"One is also \" + str(1) + \" and \" + str(True))\n",
    "\n",
    "# bool()\n",
    "print(bool(\"True\"))\n",
    "\n",
    "# float()\n",
    "print(1.1 + float(\"1.1\"))"
   ]
  },
  {
   "cell_type": "markdown",
   "metadata": {},
   "source": [
    "## **Strings**\n",
    "\n",
    "Strings is the data type that is essentially text. They are treated as an array, or list, of individual characters.\n",
    "\n",
    "To declare a string, you must use single or double quotation marks\n",
    "```\n",
    "my_str = 'Wow what a string.'\n",
    "my_other_str = \"Wow another string.\"\n",
    "```\n",
    "However, notice that you cannot add in a line break otherwise an error occurs. To write a multi-line string, you use triple quotation marks, e.g.\n",
    "```\n",
    "my_long_str = \"\"\"\n",
    "    This string\n",
    "    takes up\n",
    "    many lines.\n",
    "\"\"\"\n",
    "```\n",
    "We will cover some simple operations with strings, including concatenation and parsing, but for more information, see [here](https://www.w3schools.com/python/python_ref_string.asp)."
   ]
  },
  {
   "cell_type": "code",
   "execution_count": 4,
   "metadata": {},
   "outputs": [
    {
     "name": "stdout",
     "output_type": "stream",
     "text": [
      "ab\n",
      "ab\n",
      "a 1\n"
     ]
    }
   ],
   "source": [
    "# concatenation\n",
    "print(\"a\" + \"b\") # concatenate without spaces but can only concatenate strings\n",
    "print(\"a\" \"b\") \n",
    "print(\"a\", 1) # with commas, you can concatenate non-string values but it automatically adds spaces"
   ]
  },
  {
   "cell_type": "code",
   "execution_count": 5,
   "metadata": {},
   "outputs": [
    {
     "name": "stdout",
     "output_type": "stream",
     "text": [
      "\"Hello,\" they said.\n",
      "\"Hello,\" they said.\n",
      "'Hello,' they said.\n"
     ]
    }
   ],
   "source": [
    "# quotation marks\n",
    "print('\"Hello,\" they said.')\n",
    "print(\"\\\"Hello,\\\" they said.\")\n",
    "print(\"'Hello,' they said.\")"
   ]
  },
  {
   "cell_type": "code",
   "execution_count": 6,
   "metadata": {},
   "outputs": [
    {
     "name": "stdout",
     "output_type": "stream",
     "text": [
      "h\n",
      "4\n",
      "9\n"
     ]
    }
   ],
   "source": [
    "# indexing through strings\n",
    "my_string = \"hodp 1234\"\n",
    "print(my_string[0]) # the first character\n",
    "print(my_string[-1]) # the last character\n",
    "print(len(my_string)) # the length of the string"
   ]
  },
  {
   "cell_type": "code",
   "execution_count": 7,
   "metadata": {},
   "outputs": [
    {
     "name": "stdout",
     "output_type": "stream",
     "text": [
      "ABCABC123\n",
      "abcabc123\n"
     ]
    }
   ],
   "source": [
    "# uppercase / lowercase\n",
    "my_string = \"abcABC123\"\n",
    "\n",
    "print(my_string.upper())\n",
    "print(my_string.lower())"
   ]
  },
  {
   "cell_type": "code",
   "execution_count": 8,
   "metadata": {},
   "outputs": [
    {
     "name": "stdout",
     "output_type": "stream",
     "text": [
      "['a.', 'b.', 'c.']\n",
      "['a', ' b', ' c', '']\n"
     ]
    }
   ],
   "source": [
    "# splitting strings into an array or list by a delimiter\n",
    "my_string = \"a. b. c.\"\n",
    "\n",
    "print(my_string.split(\" \")) # split my string based on spaces, or \" \"\n",
    "print(my_string.split(\".\")) # split my string based on periods, or \".\""
   ]
  },
  {
   "cell_type": "code",
   "execution_count": 9,
   "metadata": {},
   "outputs": [
    {
     "name": "stdout",
     "output_type": "stream",
     "text": [
      "b00tcamp\n"
     ]
    }
   ],
   "source": [
    "# replacing all of one character by another character\n",
    "my_string = \"bootcamp\"\n",
    "\n",
    "print(my_string.replace('o', '0'))"
   ]
  },
  {
   "cell_type": "markdown",
   "metadata": {},
   "source": [
    "### Exercise 1\n",
    "\n",
    "1. Define a variable `x` with value `\"2\"` (that is the *string* `\"2\"`)\n",
    "2. Define a variable `s = \"The square of 2.0 is 4.0.\"`, without typing any numbers and only using `x`. *(Hint: Use `float(), str()` to convert between types.)*\n",
    "3. Print `s` in all lower case, and then all upper case.\n",
    "4. Print the length of `s`. *(Hint: This should return `25`)*"
   ]
  },
  {
   "cell_type": "code",
   "execution_count": 10,
   "metadata": {},
   "outputs": [
    {
     "name": "stdout",
     "output_type": "stream",
     "text": [
      "the square of 2.0 is 4.0.\n",
      "THE SQUARE OF 2.0 IS 4.0.\n",
      "25\n"
     ]
    }
   ],
   "source": [
    "# WRITE CODE HERE\n",
    "x = \"2\"\n",
    "s = \"The square of \" + str(float(x)) + \" is \" + str(float(x) ** 2) + \".\"\n",
    "print(s.lower())\n",
    "print(s.upper())\n",
    "print(len(s))"
   ]
  },
  {
   "cell_type": "markdown",
   "metadata": {},
   "source": [
    "## **Lists and List Methods**\n",
    "\n",
    "Lists are an easy and flexible way to store different types of information. Since lists are ordered, they can also be accessed via index (e.g. the first item of the list being at index `0`).\n",
    "\n",
    "To declare a list, use brackets `[ ]` to enclose the list and commas `,` to separate each item.\n",
    "```\n",
    "my_list = [\"a string\", 2, 1.5, True]\n",
    "```\n",
    "Notice how a single list can contain multiple data types.\n",
    "\n",
    "To declare an empty list, \n",
    "```\n",
    "empty_v1 = []\n",
    "empty_v2 = list()\n",
    "```\n",
    "The `list()` function creates an empty list, but also turns the input into a list.\n",
    "\n",
    "Here, we will cover some basic info about lists and common list operations."
   ]
  },
  {
   "cell_type": "code",
   "execution_count": 11,
   "metadata": {},
   "outputs": [
    {
     "name": "stdout",
     "output_type": "stream",
     "text": [
      "a\n",
      "d\n",
      "d\n",
      "c\n",
      "['c', 'd']\n",
      "['a', 'b']\n",
      "['b', 'c']\n"
     ]
    }
   ],
   "source": [
    "# Indexing in lists\n",
    "# Lists of size n (e.g. have n elements) begin at index 0 and go to (n-1)\n",
    "lst = [\"a\", \"b\", \"c\", \"d\"]\n",
    "\n",
    "print(lst[0]) # the first item in the list is at index 0\n",
    "print(lst[3]) # the fourth item of the list is at index 3\n",
    "\n",
    "print(lst[-1]) # the last item of the list \n",
    "print(lst[-2]) # the second to last item of the list\n",
    "\n",
    "print(lst[2:]) # this prints the items in the list from index 2 and onwards\n",
    "print(lst[:2]) # this prints the items in the list up to, BUT NOT INCLUDING, index 2\n",
    "\n",
    "print(lst[1:3]) # this prints the items in the list from index 1 up to (but not including) index 3"
   ]
  },
  {
   "cell_type": "code",
   "execution_count": 12,
   "metadata": {},
   "outputs": [
    {
     "name": "stdout",
     "output_type": "stream",
     "text": [
      "['a', 'b', 'c', 'd', 'a', 'b', 'c', 'd']\n",
      "['a', 'b', 'c', 'd', 'a', 'b', 'c', 'd']\n",
      "4\n",
      "0\n",
      "['a', 'b', 'c', 'd', 'z']\n",
      "['a', 'b', 'c', 'd']\n",
      "['a', 'b', 'zzz', 'c', 'd']\n",
      "['a', 'b', 'c', 'd']\n",
      "['d', 'c', 'b', 'a']\n",
      "['a', 'b', 'c', 'd']\n"
     ]
    }
   ],
   "source": [
    "# list operations\n",
    "lst = ['a', 'b', 'c', 'd']\n",
    "\n",
    "# concatenating lists\n",
    "print(lst + lst)\n",
    "print(lst * 2)\n",
    "\n",
    "# the length of a list\n",
    "print(len(lst))\n",
    "\n",
    "# the first index a specific element appears in\n",
    "print(lst.index(\"a\"))\n",
    "\n",
    "# add element to list\n",
    "lst.append(\"z\") # this mutates the list\n",
    "print(lst)\n",
    "\n",
    "# remove element from list\n",
    "lst.remove(\"z\")\n",
    "print(lst)\n",
    "\n",
    "# insert an element into a specific index in the list\n",
    "lst.insert(2, \"zzz\")\n",
    "print(lst)\n",
    "\n",
    "# remove an element at a specific index in the list\n",
    "del(lst[2])\n",
    "print(lst)\n",
    "\n",
    "# reverse list\n",
    "lst.reverse()\n",
    "print(lst)\n",
    "\n",
    "# sort list\n",
    "lst.sort()\n",
    "print(lst)\n"
   ]
  },
  {
   "cell_type": "code",
   "execution_count": 13,
   "metadata": {},
   "outputs": [
    {
     "name": "stdout",
     "output_type": "stream",
     "text": [
      "9\n",
      "0\n",
      "25\n"
     ]
    }
   ],
   "source": [
    "# list operations for numbers\n",
    "lst = [1, 3, 9, 4, 8, 0]\n",
    "\n",
    "print(max(lst))\n",
    "print(min(lst))\n",
    "print(sum(lst))"
   ]
  },
  {
   "cell_type": "markdown",
   "metadata": {},
   "source": [
    "### Exercise 2\n",
    "1. Define a variable `lst` which contains the strings `\"h\", \"a\", \"r\", \"v\", \"a\", \"r\", \"d\"`, in that order. \n",
    "*(Hint: Use the function `list(x)` which takes an iterable `x` and returns `x` as a list)*\n",
    "2. Print out the third letter in the list. \n",
    "*(Hint: This should be `\"r\"`)*\n",
    "3. Print the index of the first `\"a\"` in the list. \n",
    "*(Hint: Use `index()`)*\n",
    "4. Print the number of letters between the first and second `\"a\"` in the list. \n",
    "*(Hint: Use `lst[a:b]` to only look at a sublist of `lst`, and `index()`)*\n",
    "5. Append the list `['c', 'o', 'l', 'l', 'e', 'g', 'e','s']` to the end of `lst`, and set `lst` to be equal to this new list.\n",
    "6. Remove the last element from the list (the character `'s'`) and print out your lst."
   ]
  },
  {
   "cell_type": "code",
   "execution_count": 14,
   "metadata": {},
   "outputs": [
    {
     "name": "stdout",
     "output_type": "stream",
     "text": [
      "r\n",
      "1\n",
      "2\n",
      "['h', 'a', 'r', 'v', 'a', 'r', 'd', 'c', 'o', 'l', 'l', 'e', 'g', 'e']\n"
     ]
    }
   ],
   "source": [
    "# WRITE CODE HERE\n",
    "lst = list(\"harvard\")\n",
    "print(lst[2])\n",
    "print(lst.index(\"a\"))\n",
    "print(lst[lst.index(\"a\") + 1:].index(\"a\"))\n",
    "lst = lst + list(\"colleges\")\n",
    "del(lst[-1])\n",
    "print(lst)"
   ]
  },
  {
   "cell_type": "markdown",
   "metadata": {},
   "source": [
    "# Dictionaries \n",
    "\n",
    "Dictionaries are like named lists, in that they are mutable and can hold values. However, unlike lists, they attach a key, as opposed to an index, to each value. These key-value pairs make up the dictionary. Values can be any data-type (e.g. strings, ints, lists, dictionaries, etc) while keys must be **unique** and immutable (e.g. strings, ints, etc. but not lists).\n",
    "\n",
    "An example of a declaration of a dictionary is:\n",
    "```\n",
    "grades = {\"freshman\": 9, \"sophomore\": 10, \"junior\": 11, \"senior\": 12}\n",
    "```\n",
    "where to get the value `9`, we would access it with the key:\n",
    "```\n",
    "grades[\"freshman\"]\n",
    "```\n",
    "We'll explore more dictionary functions below."
   ]
  },
  {
   "cell_type": "code",
   "execution_count": 15,
   "metadata": {},
   "outputs": [
    {
     "name": "stdout",
     "output_type": "stream",
     "text": [
      "{'freshman': 9, 'sophomore': 10, 'junior': 11, 'senior': 12}\n"
     ]
    }
   ],
   "source": [
    "# declaring a dictionary\n",
    "grades = {\n",
    "    \"freshman\": 9,\n",
    "    \"sophomore\": 10\n",
    "}\n",
    "\n",
    "# adding elements to the dictionary with a not-yet-used key\n",
    "grades[\"junior\"] = 11\n",
    "grades[\"senior\"] = 12\n",
    "\n",
    "print(grades)"
   ]
  },
  {
   "cell_type": "markdown",
   "metadata": {},
   "source": [
    "Some useful functions include"
   ]
  },
  {
   "cell_type": "code",
   "execution_count": 16,
   "metadata": {},
   "outputs": [
    {
     "name": "stdout",
     "output_type": "stream",
     "text": [
      "['freshman', 'sophomore', 'junior', 'senior']\n",
      "[9, 10, 11, 12]\n",
      "[('freshman', 9), ('sophomore', 10), ('junior', 11), ('senior', 12)]\n"
     ]
    }
   ],
   "source": [
    "# to get a list keys of a dictionary\n",
    "print(list(grades.keys()))\n",
    "\n",
    "# to get a list of values in the dictionary\n",
    "print(list(grades.values()))\n",
    "\n",
    "# to get a list of the items in the dictionary (e.g. a list of the key-value pairs as tuples)\n",
    "print(list(grades.items()))"
   ]
  },
  {
   "cell_type": "markdown",
   "metadata": {},
   "source": [
    "### Exercise 3\n",
    "1. Create a dictionary `words` with keys `\"armadillo\",\"armor\",\"arm\"` whose values are the number of letters in each of the keys / words.\n",
    "\n",
    "2. Print out the entire dictionary.\n",
    "\n",
    "3. Print the number of keys in `words`.\n",
    "\n",
    "4. Print out the value associated with the key `\"armadillo\"`."
   ]
  },
  {
   "cell_type": "code",
   "execution_count": 17,
   "metadata": {},
   "outputs": [
    {
     "name": "stdout",
     "output_type": "stream",
     "text": [
      "{'armadillo': 9, 'armor': 5, 'arm': 3}\n",
      "dict_items([('armadillo', 9), ('armor', 5), ('arm', 3)])\n",
      "[('armadillo', 9), ('armor', 5), ('arm', 3)]\n",
      "3\n",
      "9\n"
     ]
    }
   ],
   "source": [
    "# WRITE CODE HERE\n",
    "words = {\"armadillo\" : len(\"armadillo\"), \"armor\" : len(\"armor\"), \"arm\" : len(\"arm\")}\n",
    "print(words)\n",
    "print(words.items())\n",
    "print(list(words.items()))\n",
    "print(len(words.keys()))\n",
    "print(words['armadillo'])"
   ]
  },
  {
   "cell_type": "markdown",
   "metadata": {},
   "source": [
    "## Conditionals\n",
    "Conditionals are `if` statements, which takes some boolean expression (e.g. an expression that evaluates to true or false) and \"if\" `True`, performs an action.\n",
    "\n",
    "More concisely, in Python syntax, it is:\n",
    "```\n",
    "if (...):\n",
    "    # do something\n",
    "elif (...):\n",
    "    # do something else\n",
    "else:\n",
    "    # do something else\n",
    "```\n",
    "\n",
    "We'll touch on the `elif` and `else` more below."
   ]
  },
  {
   "cell_type": "code",
   "execution_count": 18,
   "metadata": {},
   "outputs": [
    {
     "name": "stdout",
     "output_type": "stream",
     "text": [
      "5 is equal to 5\n"
     ]
    }
   ],
   "source": [
    "# we have integers x and y\n",
    "x = 5 \n",
    "y = 5\n",
    "\n",
    "# this if statement prints a phrase if x > y\n",
    "if (x == y):\n",
    "    print(x, \"is equal to\", y)"
   ]
  },
  {
   "cell_type": "markdown",
   "metadata": {},
   "source": [
    "But what about when `x` is not equal to `y`? Below, we have a more comprehensive `if` statement using `elif` (short for \"else if\") and `else`."
   ]
  },
  {
   "cell_type": "code",
   "execution_count": 19,
   "metadata": {},
   "outputs": [
    {
     "name": "stdout",
     "output_type": "stream",
     "text": [
      "8 is equal to 8\n"
     ]
    }
   ],
   "source": [
    "# a more comprehensive if statement\n",
    "x = 8 \n",
    "y = 8\n",
    "\n",
    "if (x > y):\n",
    "    print(x, \"is greater than\", y)\n",
    "elif (x < y):\n",
    "    print(x, \"is less than\", y)\n",
    "else:\n",
    "    print(x, \"is equal to\", y)"
   ]
  },
  {
   "cell_type": "markdown",
   "metadata": {},
   "source": [
    "### Exercise 4\n",
    "1. Define a variable `age` as an integer with value `65`.\n",
    "2. Write a conditional statement which prints `\"You are old.\"` if `age` is greater than or equal to `30`, `\"You are not old.\"` if `age` is between `13` and `30`, and `\"Child.\"` if `age` is less than or equal to `13`.\n",
    "3. Change `age` to have value `20`, and then `10` and see if what you expected to happen occurs!"
   ]
  },
  {
   "cell_type": "code",
   "execution_count": 20,
   "metadata": {},
   "outputs": [
    {
     "name": "stdout",
     "output_type": "stream",
     "text": [
      "Child.\n"
     ]
    }
   ],
   "source": [
    "# WRITE CODE HERE\n",
    "age = 15\n",
    "if age >= 30:\n",
    "    print(\"You are old.\")\n",
    "elif age > 18:\n",
    "    print(\"You are not old.\")\n",
    "else:\n",
    "    print(\"Child.\")"
   ]
  },
  {
   "cell_type": "markdown",
   "metadata": {},
   "source": [
    "## For Loops\n",
    "In Python, whenever you want to iterate over a list, dictionary, string, etc. (any iterable), you can use for loops to perform an action on each element of the iterable.\n",
    "\n",
    "An example of a for loop would be, if I had some list named `students`,\n",
    "```\n",
    "for student in students:\n",
    "    # do something\n",
    "```\n",
    "where I chose `student` to refer to each element of the list `students` (but any valid variable name would have worked as well).\n",
    "\n",
    "Below, we will delve into more examples of for loops."
   ]
  },
  {
   "cell_type": "code",
   "execution_count": 21,
   "metadata": {},
   "outputs": [
    {
     "name": "stdout",
     "output_type": "stream",
     "text": [
      "My name is Anna.\n",
      "My name is Brian.\n",
      "My name is Chi.\n",
      "My name is Dilhan.\n",
      "My name is Anna and I am in position 0\n",
      "My name is Brian and I am in position 1\n",
      "My name is Chi and I am in position 2\n",
      "My name is Dilhan and I am in position 3\n",
      "Anna\n",
      "Brian\n",
      "Chi\n",
      "Dilhan\n"
     ]
    }
   ],
   "source": [
    "# for loops with lists\n",
    "students = [\"Anna\", \"Brian\", \"Chi\", \"Dilhan\"]\n",
    "\n",
    "# for each element in list\n",
    "for student in students:\n",
    "    print(\"My name is \" + student + \".\")\n",
    "    \n",
    "# for each index and element in list\n",
    "for i, s in enumerate(students):\n",
    "    print(\"My name is\", s, \"and I am in position\", i)\n",
    "    \n",
    "# for each index in list\n",
    "for i in range(len(students)):\n",
    "    print(students[i])"
   ]
  },
  {
   "cell_type": "markdown",
   "metadata": {},
   "source": [
    "One useful function is `enumerate`, which essentially pairs each element with an index."
   ]
  },
  {
   "cell_type": "code",
   "execution_count": 22,
   "metadata": {},
   "outputs": [
    {
     "name": "stdout",
     "output_type": "stream",
     "text": [
      "<enumerate object at 0x05F12B70>\n",
      "[(0, 'Anna'), (1, 'Brian'), (2, 'Chi'), (3, 'Dilhan')]\n"
     ]
    }
   ],
   "source": [
    "print(enumerate(students))\n",
    "print(list(enumerate(students)))"
   ]
  },
  {
   "cell_type": "markdown",
   "metadata": {},
   "source": [
    "Another very useful (and common) function is `range`, which returns a sequence of numbers."
   ]
  },
  {
   "cell_type": "code",
   "execution_count": 23,
   "metadata": {},
   "outputs": [
    {
     "name": "stdout",
     "output_type": "stream",
     "text": [
      "[5, 6, 7, 8, 9]\n",
      "[0, 1, 2, 3, 4, 5, 6, 7, 8, 9]\n",
      "[5, 7, 9]\n"
     ]
    }
   ],
   "source": [
    "a = 5\n",
    "b = 10\n",
    "\n",
    "# range(a,b) returns a sequence of ints from a to b-1 (but not b)\n",
    "print(list(range(a,b)))\n",
    "\n",
    "# range(b) returns a sequence of ints from 0 to b-1 (but not b)\n",
    "print(list(range(b)))\n",
    "\n",
    "# range(a, b, 2) returns a sequence of ints from a to b-1, incrementing by 2 (e.g. every other step)\n",
    "print(list(range(a,b,2)))"
   ]
  },
  {
   "cell_type": "code",
   "execution_count": 24,
   "metadata": {},
   "outputs": [
    {
     "name": "stdout",
     "output_type": "stream",
     "text": [
      "0\n",
      "1\n",
      "4\n",
      "9\n",
      "16\n",
      "25\n",
      "36\n",
      "49\n",
      "64\n",
      "81\n"
     ]
    }
   ],
   "source": [
    "for i in range(10):\n",
    "    print (i**2)"
   ]
  },
  {
   "cell_type": "code",
   "execution_count": 25,
   "metadata": {},
   "outputs": [
    {
     "name": "stdout",
     "output_type": "stream",
     "text": [
      "freshman is grade 9\n",
      "sophomore is grade 10\n",
      "junior is grade 11\n",
      "senior is grade 12\n",
      "freshman is grade 9\n",
      "sophomore is grade 10\n",
      "junior is grade 11\n",
      "senior is grade 12\n"
     ]
    }
   ],
   "source": [
    "# for loops with dictionaries\n",
    "grades = {\"freshman\": 9, \"sophomore\": 10, \"junior\": 11, \"senior\": 12}\n",
    "\n",
    "# for each key, value pair in the dicionary\n",
    "for name, year in grades.items():\n",
    "  print(name, \"is grade\", year)\n",
    "  \n",
    "# for each key in the dictionary\n",
    "for key in grades.keys():\n",
    "  print(key, \"is grade\", grades[key])"
   ]
  },
  {
   "cell_type": "markdown",
   "metadata": {},
   "source": [
    "### Exercise 5\n",
    "1. Define a variable `nums` as a list of every number from 0 to 19 (inclusive).\n",
    "(*Hint: Use `range`.*)\n",
    "2. Define a new variable `squares` as the list of every number in `nums` squared (e.g. `[0,1,4,...,361]`).\n",
    "3. Print out the sum of all the elements in `squares`. (*Hint: Should evaluate to `2470`)."
   ]
  },
  {
   "cell_type": "code",
   "execution_count": 26,
   "metadata": {},
   "outputs": [
    {
     "name": "stdout",
     "output_type": "stream",
     "text": [
      "[0, 1, 2, 3, 4, 5, 6, 7, 8, 9, 10, 11, 12, 13, 14, 15, 16, 17, 18, 19]\n",
      "[0, 1, 4, 9, 16, 25, 36, 49, 64, 81, 100, 121, 144, 169, 196, 225, 256, 289, 324, 361]\n",
      "[0, 1, 4, 9, 16, 25, 36, 49, 64, 81, 100, 121, 144, 169, 196, 225, 256, 289, 324, 361]\n",
      "2470\n"
     ]
    }
   ],
   "source": [
    "# WRITE CODE HERE\n",
    "nums = list(range(20))\n",
    "print(nums)\n",
    "\n",
    "squares = [x**2 for x in nums]\n",
    "print(squares)\n",
    "\n",
    "squares = []\n",
    "for x in nums:\n",
    "    squares.append(x**2)\n",
    "print(squares)\n",
    "\n",
    "print(sum(squares))"
   ]
  },
  {
   "cell_type": "markdown",
   "metadata": {},
   "source": [
    "## Functions\n",
    "Oftentimes, we will want to perform the same action (with the same chunk of code) in multiple areas. To avoid copy & pasting everything multiple times, we define functions. Functions can take in inputs and return an output. \n",
    "\n",
    "The syntax for defining a function is:\n",
    "```\n",
    "def square(x):\n",
    "    return x**2\n",
    "```\n",
    "where `square(x)` takes in a variable and returns the value squared. To call this function, we can run\n",
    "```\n",
    "square(2)\n",
    "```\n",
    "which would then return `4`. Notice how it is not actually another variable or `x`. This is because `x` is just what the function internally calls the input, and is not necessarily the name of the input outside of the function definition.\n",
    "\n",
    "Below, we will go through a couple more examples of functions."
   ]
  },
  {
   "cell_type": "code",
   "execution_count": 27,
   "metadata": {},
   "outputs": [
    {
     "name": "stdout",
     "output_type": "stream",
     "text": [
      "10\n",
      "5\n",
      "51\n"
     ]
    }
   ],
   "source": [
    "# greater(x,y) returns the greater of the two values x and y\n",
    "def greater(x,y):\n",
    "    if x > y:\n",
    "        return x\n",
    "    else:\n",
    "        return y\n",
    "\n",
    "print(greater(3,10))\n",
    "print(greater(5,4))\n",
    "print(greater(51,51))"
   ]
  },
  {
   "cell_type": "markdown",
   "metadata": {},
   "source": [
    "Now, what happens when the input, lets call it `x`, is both defined outside the function *and* inside the function?"
   ]
  },
  {
   "cell_type": "code",
   "execution_count": 28,
   "metadata": {},
   "outputs": [
    {
     "data": {
      "text/plain": [
       "25"
      ]
     },
     "execution_count": 28,
     "metadata": {},
     "output_type": "execute_result"
    }
   ],
   "source": [
    "x = 10\n",
    "def square(x):\n",
    "    return x ** 2\n",
    "\n",
    "square(5)"
   ]
  },
  {
   "cell_type": "code",
   "execution_count": 29,
   "metadata": {},
   "outputs": [
    {
     "name": "stdout",
     "output_type": "stream",
     "text": [
      "[1, 2, 3, 4]\n",
      "[1, 2, 3, 4, 5]\n"
     ]
    }
   ],
   "source": [
    "# extend takes the lst and appends element n to the end\n",
    "def extend_0(lst, n):\n",
    "    lst = lst + [n]\n",
    "    return lst\n",
    "\n",
    "def extend_1(lst, n):\n",
    "    return lst.append(n)\n",
    "\n",
    "lst = [1,2,3,4]\n",
    "\n",
    "extend_0(lst, 5)\n",
    "print(lst)\n",
    "\n",
    "extend_1(lst,5)\n",
    "print(lst)"
   ]
  },
  {
   "cell_type": "code",
   "execution_count": 30,
   "metadata": {},
   "outputs": [
    {
     "name": "stdout",
     "output_type": "stream",
     "text": [
      "[1, 2, 3, 4, 5]\n",
      "[1, 2, 3, 4]\n",
      "None\n",
      "[1, 2, 3, 4, 5]\n"
     ]
    }
   ],
   "source": [
    "# let's explore the difference a bit more\n",
    "lst = [1,2,3,4]\n",
    "\n",
    "print(extend_0(lst, 5))\n",
    "print(lst)\n",
    "\n",
    "print(extend_1(lst,5))\n",
    "print(lst)"
   ]
  },
  {
   "cell_type": "code",
   "execution_count": 31,
   "metadata": {},
   "outputs": [
    {
     "name": "stdout",
     "output_type": "stream",
     "text": [
      "x\n",
      "None\n"
     ]
    }
   ],
   "source": [
    "# because print performs and ACTION and does not have a return value\n",
    "# it returns None\n",
    "# in Python, if there is no specified return value, the function will return None\n",
    "print(print(\"x\"))"
   ]
  },
  {
   "cell_type": "markdown",
   "metadata": {},
   "source": [
    "### Exercise 6\n",
    "1. Define a function `long(s)` which takes in a string `s` and prints the string `\"long\"` if the length of `s` is greater than `10`. Else, it prints `\"not long\"`. Print the result of `long(\"word\")` and `long(\"universities\")`.\n",
    "\n",
    "2. Define a funcion `multiple(k, n)` which takes in an int `n` and returns a list of all multiples of `k` less than or equal to `n`. Print the result of `multiple(3,9)` and `multiple(3,3)`.    "
   ]
  },
  {
   "cell_type": "code",
   "execution_count": 32,
   "metadata": {},
   "outputs": [
    {
     "name": "stdout",
     "output_type": "stream",
     "text": [
      "[3, 6, 9]\n",
      "[3]\n",
      "not long\n",
      "None\n",
      "long\n",
      "None\n"
     ]
    }
   ],
   "source": [
    "# WRITE CODE HERE\n",
    "def long(s):\n",
    "    if len(s) > 10:\n",
    "        print(\"long\")\n",
    "    else:\n",
    "        print(\"not long\")\n",
    "\n",
    "def multiple(k,n):\n",
    "    if k > n:\n",
    "        return []\n",
    "    elif k == n:\n",
    "        return [k]\n",
    "    else:\n",
    "        return list(range(k, n+1, k))\n",
    "print(multiple(3,9))\n",
    "print(multiple(3,3))\n",
    "print(long(\"word\"))\n",
    "print(long(\"universities\"))"
   ]
  },
  {
   "cell_type": "markdown",
   "metadata": {},
   "source": [
    "## Imports\n",
    "Oftentimes, there are functions that people want to use for different projects and don't want to copy over or rewrite the same function multiple times. This is where imports come in. \n",
    "\n",
    "Python has an incredibly large amount of available libraries for doing almost anything you could possibly need, from making graphs, to analyzing data, to even implementing neural networks.\n",
    "\n",
    "To access these libraries we use imports. For example, some common libraries for data analysis are Numpy and Pandas. Thus, to use these libraries, you would\n",
    "```\n",
    "import numpy as np\n",
    "import pandas as pd\n",
    "```\n",
    "where we have imported the libraries Numpy and Pandas, and gave them a \"nickname\" so that we don't have to type the entire word each time we call on a function from the library.\n",
    "\n",
    "To use functions from these libraries, e.g. Numpy's `array` function, which takes in a list and returns an `ndarray` (Numpy's own array), I would\n",
    "```\n",
    "lst = [1,2,3,4,5]\n",
    "lst = np.array(lst)\n",
    "```\n",
    "If I do not want to type the `np.array` each time I call the function, or only want to import that function and not the whole library, I can specify that I just want to import `array`, e.g.:\n",
    "```\n",
    "from numpy import array\n",
    "```\n",
    "and then I can just type `array()` each time I call the function."
   ]
  },
  {
   "cell_type": "code",
   "execution_count": 33,
   "metadata": {},
   "outputs": [
    {
     "name": "stdout",
     "output_type": "stream",
     "text": [
      "[1, 2, 3, 4, 5]\n",
      "[1 2 3 4 5]\n"
     ]
    }
   ],
   "source": [
    "import numpy as np\n",
    "import pandas as pd\n",
    "\n",
    "lst = [1,2,3,4,5]\n",
    "print(lst)\n",
    "\n",
    "lst = np.array(lst)\n",
    "print(lst)"
   ]
  },
  {
   "cell_type": "code",
   "execution_count": 34,
   "metadata": {},
   "outputs": [
    {
     "name": "stdout",
     "output_type": "stream",
     "text": [
      "[1 2 3 4 5]\n"
     ]
    }
   ],
   "source": [
    "from numpy import array\n",
    "lst = [1,2,3,4,5]\n",
    "print(array(lst))"
   ]
  },
  {
   "cell_type": "markdown",
   "metadata": {},
   "source": [
    "# Practice Problems"
   ]
  },
  {
   "cell_type": "markdown",
   "metadata": {},
   "source": [
    "## Problem 1\n",
    "Define a function `place(lst, i, n)` which takes in a list of ints `lst` and inserts at index `i` all numbers from `0` up to (but not including) `n`. This should edit the list `lst` **in place** and not return anything.\n",
    "\n",
    "For example,\n",
    "```\n",
    "lst = [-2,-1,5]\n",
    "place(lst, 2, 5)\n",
    "print(lst)\n",
    "```\n",
    "should print out\n",
    "```\n",
    "[-2,-1,0,1,2,3,4,5]\n",
    "```\n",
    "as we insert numbers `0` through `4` starting at index `i`.\n",
    "\n",
    "*Hint: Check out the list operations which has a very handy function `insert`.*"
   ]
  },
  {
   "cell_type": "code",
   "execution_count": 35,
   "metadata": {},
   "outputs": [
    {
     "name": "stdout",
     "output_type": "stream",
     "text": [
      "[-2, -1, 0, 1, 2, 3, 4, 5]\n"
     ]
    }
   ],
   "source": [
    "# WRITE CODE HERE\n",
    "def place(lst, i, n):\n",
    "    idx = i\n",
    "    for x in range(n):\n",
    "        lst.insert(i, x)\n",
    "        i += 1\n",
    "    \n",
    "lst = [-2,-1,5]\n",
    "place(lst, 2, 5)\n",
    "print(lst)"
   ]
  },
  {
   "cell_type": "markdown",
   "metadata": {},
   "source": [
    "## Problem 2\n",
    "Define a function `fib(x)`which returns the `x`th Fibonacci number, with `1,1,2` being the first three Fibonacci numbers.\n",
    "\n",
    "Then, using the function you just defined, print out a list of the first `20` Fibonacci numbers."
   ]
  },
  {
   "cell_type": "code",
   "execution_count": 36,
   "metadata": {},
   "outputs": [
    {
     "name": "stdout",
     "output_type": "stream",
     "text": [
      "[1, 1, 2, 3, 5, 8, 13, 21, 34, 55, 89, 144, 233, 377, 610, 987, 1597, 2584, 4181, 6765]\n"
     ]
    }
   ],
   "source": [
    "# WRITE CODE HERE\n",
    "def fib(x):\n",
    "    if x < 2:\n",
    "        return 1\n",
    "    else:\n",
    "        return fib(x-1) + fib(x-2)\n",
    "    \n",
    "print([fib(x) for x in range(20)])"
   ]
  },
  {
   "cell_type": "markdown",
   "metadata": {},
   "source": [
    "## Problem 3\n",
    "Define a function `count_abc(s)` which takes in a string `s` and returns the number of times the string `\"abc#\"` where the `#` represents any digit. Essentially, we want to know the number of instances of the strings `\"abc0\",...,\"abc9\"` in `s`.\n",
    "\n",
    "For example,\n",
    "```\n",
    "count_abc(\"asdabckabc1\")\n",
    "```\n",
    "should return `1`, and\n",
    "```\n",
    "count_abc(\"abbc1abc0abc91\")\n",
    "```\n",
    "should return `2`.\n",
    "\n",
    "*Hint: Check out the string function `count()` which counts the number of times a substring appears in a string).*"
   ]
  },
  {
   "cell_type": "code",
   "execution_count": 37,
   "metadata": {},
   "outputs": [
    {
     "name": "stdout",
     "output_type": "stream",
     "text": [
      "1\n",
      "2\n"
     ]
    }
   ],
   "source": [
    "# WRITE CODE HERE\n",
    "def count_abc(s):\n",
    "    count = 0\n",
    "    for n in range(10):\n",
    "        sub = \"abc\" + str(n)\n",
    "        count += s.count(sub)\n",
    "    return count\n",
    "\n",
    "print(count_abc(\"asdabckabc1\"))\n",
    "print(count_abc(\"abbc1abc0abc91\"))"
   ]
  }
 ],
 "metadata": {
  "kernelspec": {
   "display_name": "Python 3",
   "language": "python",
   "name": "python3"
  },
  "language_info": {
   "codemirror_mode": {
    "name": "ipython",
    "version": 3
   },
   "file_extension": ".py",
   "mimetype": "text/x-python",
   "name": "python",
   "nbconvert_exporter": "python",
   "pygments_lexer": "ipython3",
   "version": "3.7.4"
  }
 },
 "nbformat": 4,
 "nbformat_minor": 4
}
